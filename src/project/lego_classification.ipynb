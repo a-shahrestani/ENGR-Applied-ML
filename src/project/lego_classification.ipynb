{
 "cells": [
  {
   "cell_type": "code",
   "execution_count": null,
   "metadata": {
    "collapsed": true,
    "pycharm": {
     "name": "#%%\n"
    }
   },
   "outputs": [],
   "source": [
    "# Group\n",
    "# Afshin Shahrestani - 54703632\n"
   ]
  },
  {
   "cell_type": "code",
   "execution_count": 38,
   "outputs": [
    {
     "name": "stderr",
     "output_type": "stream",
     "text": [
      "UsageError: Line magic function `%` not found.\n"
     ]
    }
   ],
   "source": [
    "import os\n",
    "from pathlib import Path\n",
    "\n",
    "# The required libraries are imported here\n",
    "\n",
    "import numpy as np\n",
    "% matplotlib inline\n",
    "#The line above is necesary to show Matplotlib's plots inside a Jupyter Notebook\n",
    "import cv2\n",
    "from matplotlib import pyplot as plt\n",
    "from sklearn.linear_model import LogisticRegression\n",
    "from sklearn.metrics import confusion_matrix, accuracy_score\n",
    "from sklearn.model_selection import train_test_split"
   ],
   "metadata": {
    "collapsed": false,
    "pycharm": {
     "name": "#%%\n"
    }
   }
  },
  {
   "cell_type": "code",
   "execution_count": 43,
   "outputs": [
    {
     "data": {
      "text/plain": "(108, 50, 50)"
     },
     "execution_count": 43,
     "metadata": {},
     "output_type": "execute_result"
    }
   ],
   "source": [
    "# This cell contains the functions defined to read the images from the given directories, separate them into classes, and preprocess them so they can be used by thr model\n",
    "\n",
    "\n",
    "def image_cropper(img: np.array, height_percentage: int = 40, width_percentage: int = 40) -> np.array:\n",
    "    \"\"\"\n",
    "    the image is cropped from both sides of the height and width\n",
    "    :param img: the images as an np.array\n",
    "    :param width_percentage: the percentage of the pixels from the width of the image we would like to crop\n",
    "    :param height_percentage: the percentage of the pixels from the height of the image we would like to crop\n",
    "    :return: cropped image as np.array\n",
    "    \"\"\"\n",
    "    height, width = img.shape[0], img.shape[1]\n",
    "    cropped_height_amount = height // 100 * height_percentage\n",
    "    cropped_width_amount = height // 100 * width_percentage\n",
    "    img = img[cropped_height_amount // 2:height - cropped_height_amount // 2,\n",
    "          cropped_width_amount // 2:width - cropped_width_amount // 2]\n",
    "    return img\n",
    "\n",
    "\n",
    "def image_scaler(img, new_height=20, new_width=20):\n",
    "    \"\"\"\n",
    "    :param img: the images as an np.array\n",
    "    :param new_height: the new height of the scaled image\n",
    "    :param new_width: the new width of the scaled image\n",
    "    :return: scaled image as np.array\n",
    "    \"\"\"\n",
    "    img = cv2.resize(img, (new_height, new_width), interpolation=cv2.INTER_AREA)\n",
    "    return img\n",
    "\n",
    "\n",
    "def image_standardization(img, max_value=255):\n",
    "    \"\"\"\n",
    "    changes the values of the image pixels to be between 0 and max_value\n",
    "    :param max_value: max_value of the new pixels\n",
    "    :param img: the images as an np.array\n",
    "    :return: standardized image\n",
    "    \"\"\"\n",
    "    img = (img - np.min(img)) / (np.max(img) - np.min(img)) * max_value\n",
    "    return img\n",
    "\n",
    "\n",
    "def separate_classes(img_files, name_separation_chars=3, test_flag=False, classes_dict=None):\n",
    "    \"\"\"\n",
    "    separates the images into classes based on their file names\n",
    "    :param img_files: list of image file names\n",
    "    :param name_separation_chars: number of characters in the name that should get used for separation\n",
    "    :return: a list of classes for image names, a dict containing the name and the corresponding class number of images\n",
    "    \"\"\"\n",
    "    names = list(set(img_name[:name_separation_chars] for img_name in img_files))\n",
    "    if not test_flag:\n",
    "        classes_dict = dict(enumerate(names))\n",
    "        classes_dict = {v: k for k, v in classes_dict.items()}\n",
    "    classes = []\n",
    "    for img_name in img_files:\n",
    "        classes.append(classes_dict[img_name[:name_separation_chars]])\n",
    "    return classes, classes_dict\n",
    "\n",
    "\n",
    "def get_files_list(data_dir, name_separation_chars=3, test_flag = False, classes_dict = None):\n",
    "    \"\"\"\n",
    "    gets the list of image names from the directory\n",
    "    :param data_dir: path to the image files\n",
    "    :return: list of image names, their classes and the dict for classes\n",
    "    \"\"\"\n",
    "    data = os.listdir(data_dir)\n",
    "    classes, classes_dict = separate_classes(data, name_separation_chars=name_separation_chars, test_flag=test_flag, classes_dict=classes_dict)\n",
    "    return data, classes, classes_dict\n",
    "\n",
    "\n",
    "def image_reader(img_dir):\n",
    "    \"\"\"\n",
    "    reads image in grayscale\n",
    "    :return: img as np.array\n",
    "    \"\"\"\n",
    "    img = cv2.imread(img_dir, 0)\n",
    "    return img\n",
    "\n",
    "\n",
    "def get_data(path_to_training_data,\n",
    "                      class_name_chars=3,\n",
    "                      test_flag = False,\n",
    "                      classes_dict = None,\n",
    "                      standardization_flag=True,\n",
    "                      standardization_max_value=255,\n",
    "                      crop_flag=True,\n",
    "                      crop_height_percentage=50,\n",
    "                      crop_width_percentage=50,\n",
    "                      scaling_flag=True,\n",
    "                      scaling_height=50,\n",
    "                      scaling_width=50):\n",
    "    data = []\n",
    "    image_names, classes, classes_dict = get_files_list(path_to_training_data, class_name_chars,test_flag=test_flag,classes_dict=classes_dict)\n",
    "    for name in image_names:\n",
    "        img = image_reader(str(Path(path_to_training_data) / name))\n",
    "        if standardization_flag:\n",
    "            img = image_standardization(img, standardization_max_value)\n",
    "        if crop_flag:\n",
    "            img = image_cropper(img, crop_height_percentage, crop_width_percentage)\n",
    "        if scaling_flag:\n",
    "            img = image_scaler(img, scaling_height, scaling_width)\n",
    "        data.append(img)\n",
    "    return np.array(data),classes,classes_dict\n",
    "\n",
    "data,classes,classes_dict = get_data('../../data/Lego_dataset_1/training/')\n",
    "data.shape\n",
    "# img_files, classes, classes_dict = get_files_list('../../data/Lego_dataset_1/training/')\n",
    "# names = set(img_name[:3] for img_name in img_files)\n",
    "# print(classes)\n",
    "# print(classes_dict)\n",
    "# img = image_reader()\n",
    "# img = image_standardization(img)\n",
    "# img = image_cropper(img, 50, 50)\n",
    "# img = image_scaler(img,60,60)\n",
    "# print(img.shape)\n",
    "# # print(img)\n",
    "# plt.imshow(img, cmap='gray')\n",
    "# plt.show()"
   ],
   "metadata": {
    "collapsed": false,
    "pycharm": {
     "name": "#%%\n"
    }
   }
  },
  {
   "cell_type": "code",
   "execution_count": null,
   "outputs": [],
   "source": [],
   "metadata": {
    "collapsed": false,
    "pycharm": {
     "name": "#%%\n"
    }
   }
  }
 ],
 "metadata": {
  "kernelspec": {
   "display_name": "Python 3",
   "language": "python",
   "name": "python3"
  },
  "language_info": {
   "codemirror_mode": {
    "name": "ipython",
    "version": 2
   },
   "file_extension": ".py",
   "mimetype": "text/x-python",
   "name": "python",
   "nbconvert_exporter": "python",
   "pygments_lexer": "ipython2",
   "version": "2.7.6"
  }
 },
 "nbformat": 4,
 "nbformat_minor": 0
}