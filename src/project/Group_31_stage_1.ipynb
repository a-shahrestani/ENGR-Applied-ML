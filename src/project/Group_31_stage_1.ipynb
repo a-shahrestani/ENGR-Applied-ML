{
 "cells": [
  {
   "cell_type": "code",
   "execution_count": 48,
   "metadata": {
    "pycharm": {
     "name": "#%%\n"
    }
   },
   "outputs": [],
   "source": [
    "# Group 31\n",
    "# Afshin Shahrestani - 54703632\n",
    "# Arash Jalil Khabbazi - 92033232"
   ]
  },
  {
   "cell_type": "code",
   "execution_count": 3,
   "metadata": {
    "pycharm": {
     "name": "#%%\n"
    }
   },
   "outputs": [
    {
     "name": "stderr",
     "output_type": "stream",
     "text": [
      "UsageError: Line magic function `%` not found.\n"
     ]
    }
   ],
   "source": [
    "# The required libraries are imported here\n",
    "import os\n",
    "from pathlib import Path\n",
    "import numpy as np\n",
    "import PIL\n",
    "from matplotlib import pyplot as plt\n",
    "from sklearn.linear_model import LogisticRegression\n",
    "from sklearn.metrics import confusion_matrix, accuracy_score\n",
    "from sklearn.model_selection import train_test_split\n",
    "% matplotlib inline"
   ]
  },
  {
   "cell_type": "code",
   "execution_count": 4,
   "metadata": {
    "pycharm": {
     "name": "#%%\n"
    }
   },
   "outputs": [],
   "source": [
    "# This cell contains the functions defined to read the images from the given directories,\n",
    "# separate them into classes, and preprocess them so they can be used by thr model.\n",
    "\n",
    "def image_cropper(img: np.array, height_percentage: int = 40, width_percentage: int = 40) -> np.array:\n",
    "    \"\"\"\n",
    "    the image is cropped from both sides of the height and width\n",
    "    :param img: the images as an np.array\n",
    "    :param width_percentage: the percentage of the pixels from the width of the image we would like to crop\n",
    "    :param height_percentage: the percentage of the pixels from the height of the image we would like to crop\n",
    "    :return: cropped image as np.array\n",
    "    \"\"\"\n",
    "    height, width = img.shape[0], img.shape[1]\n",
    "    cropped_height_amount = height // 100 * height_percentage\n",
    "    cropped_width_amount = height // 100 * width_percentage\n",
    "    img = img[cropped_height_amount // 2:height - cropped_height_amount // 2,\n",
    "          cropped_width_amount // 2:width - cropped_width_amount // 2]\n",
    "    return img\n",
    "\n",
    "\n",
    "def image_scaler(img, new_height=20, new_width=20):\n",
    "    \"\"\"\n",
    "    :param img: the images as an np.array\n",
    "    :param new_height: the new height of the scaled image\n",
    "    :param new_width: the new width of the scaled image\n",
    "    :return: scaled image as np.array\n",
    "    \"\"\"\n",
    "    img = PIL.Image.fromarray(img)\n",
    "    # img = cv2.resize(img, (new_height, new_width), interpolation=cv2.INTER_AREA)\n",
    "    img = img.resize((new_width, new_height), resample=PIL.Image.BICUBIC)\n",
    "    img = np.array(img)\n",
    "    return img\n",
    "\n",
    "\n",
    "def image_standardization(img, max_value=255):\n",
    "    \"\"\"\n",
    "    changes the values of the image pixels to be between 0 and max_value\n",
    "    :param max_value: max_value of the new pixels\n",
    "    :param img: the images as an np.array\n",
    "    :return: standardized image\n",
    "    \"\"\"\n",
    "    img = (img - np.min(img)) / (np.max(img) - np.min(img)) * max_value\n",
    "    return img\n",
    "\n",
    "\n",
    "def separate_classes(img_files, name_separation_chars=3, test_flag=False, classes_dict=None):\n",
    "    \"\"\"\n",
    "    separates the images into classes based on their file names\n",
    "    :param img_files: list of image file names\n",
    "    :param name_separation_chars: number of characters in the name that should get used for separation\n",
    "    :return: a list of classes for image names, a dict containing the name and the corresponding class number of images\n",
    "    \"\"\"\n",
    "    names = list(set(img_name[:name_separation_chars] for img_name in img_files))\n",
    "    if not test_flag:\n",
    "        classes_dict = dict(enumerate(names))\n",
    "        classes_dict = {v: k for k, v in classes_dict.items()}\n",
    "    classes = []\n",
    "    for img_name in img_files:\n",
    "        classes.append(classes_dict[img_name[:name_separation_chars]])\n",
    "    return classes, classes_dict\n",
    "\n",
    "\n",
    "def get_files_list(data_dir, name_separation_chars=3, test_flag=False, classes_dict=None):\n",
    "    \"\"\"\n",
    "    gets the list of image names from the directory\n",
    "    :param data_dir: path to the image files\n",
    "    :return: list of image names, their classes and the dict for classes\n",
    "    \"\"\"\n",
    "    data = os.listdir(data_dir)\n",
    "    ### print(data, len(data))\n",
    "    classes, classes_dict = separate_classes(data, name_separation_chars=name_separation_chars, test_flag=test_flag,\n",
    "                                             classes_dict=classes_dict)\n",
    "    return data, classes, classes_dict\n",
    "\n",
    "\n",
    "def image_reader(img_dir):\n",
    "    \"\"\"\n",
    "    reads image in grayscale\n",
    "    :return: img as np.array\n",
    "    \"\"\"\n",
    "    img = PIL.Image.open(img_dir)\n",
    "    gray_img = img.convert(\"L\")\n",
    "    # img = cv2.imread(img_dir, 0)\n",
    "    return gray_img\n",
    "\n",
    "\n",
    "def get_data(path_to_training_data,\n",
    "             class_name_chars=3,\n",
    "             test_flag=False,\n",
    "             classes_dict=None,\n",
    "             standardization_flag=True,\n",
    "             standardization_max_value=255,\n",
    "             crop_flag=True,\n",
    "             crop_height_percentage=50,\n",
    "             crop_width_percentage=50,\n",
    "             scaling_flag=True,\n",
    "             scaling_height=64,\n",
    "             scaling_width=64):\n",
    "    data = []\n",
    "    image_names, classes, classes_dict = get_files_list(path_to_training_data, class_name_chars, test_flag=test_flag,\n",
    "                                                        classes_dict=classes_dict)\n",
    "    for name in image_names:\n",
    "        img = image_reader(str(Path(path_to_training_data) / name))\n",
    "        if standardization_flag:\n",
    "            img = image_standardization(img, standardization_max_value)\n",
    "        if crop_flag:\n",
    "            img = image_cropper(img, crop_height_percentage, crop_width_percentage)\n",
    "        if scaling_flag:\n",
    "            img = image_scaler(img, scaling_height, scaling_width)\n",
    "        data.append(img.flatten())\n",
    "    # converting classes list to a column array\n",
    "    classes = np.array(classes).reshape(-1, 1)\n",
    "    return np.array(data), classes, classes_dict"
   ]
  },
  {
   "cell_type": "code",
   "execution_count": 6,
   "outputs": [
    {
     "name": "stderr",
     "output_type": "stream",
     "text": [
      "C:\\Users\\AshesFall\\AppData\\Local\\Temp\\ipykernel_38552\\2936266166.py:29: DeprecationWarning: BICUBIC is deprecated and will be removed in Pillow 10 (2023-07-01). Use Resampling.BICUBIC instead.\n",
      "  img = img.resize((new_width, new_height), resample=PIL.Image.BICUBIC)\n"
     ]
    },
    {
     "name": "stdout",
     "output_type": "stream",
     "text": [
      "\n",
      "X_test.shape = (108, 4096), y_test.shape = (108, 1)\n",
      "\n",
      "Confusion Matrix = \n",
      "[[36  0  0]\n",
      " [ 0 36  0]\n",
      " [ 0  0 36]]\n",
      "\n",
      "Accuracy Score = 1.0\n",
      "Model Coefficient Shape = (3, 4096)\n"
     ]
    }
   ],
   "source": [
    "def train_function(path_to_data,\n",
    "                   class_name_chars=3,\n",
    "                   test_flag=False,\n",
    "                   classes_dict=None,\n",
    "                   standardization_flag=True,\n",
    "                   standardization_max_value=255,\n",
    "                   crop_flag=True,\n",
    "                   crop_height_percentage=50,\n",
    "                   crop_width_percentage=50,\n",
    "                   scaling_flag=True,\n",
    "                   scaling_height=50,\n",
    "                   scaling_width=50):\n",
    "    X_train, y_train, classes_dict = get_data(path_to_data)\n",
    "    # print(data_train.shape, classes_train.shape)\n",
    "    # train LogisticRegression model\n",
    "    model = LogisticRegression(max_iter=10000)\n",
    "    model.fit(X_train, y_train.ravel())\n",
    "\n",
    "    print(f'\\nX_test.shape = {X_train.shape}, y_test.shape = {y_train.shape}')\n",
    "    y_pred = model.predict(X_train)\n",
    "    print(f'\\nConfusion Matrix = \\n{confusion_matrix(y_train, y_pred)}')\n",
    "    print(f'\\nAccuracy Score = {accuracy_score(y_train, y_pred)}')\n",
    "    print(f'Model Coefficient Shape = {model.coef_.shape}')\n",
    "    return model, classes_dict\n",
    "\n",
    "\n",
    "model, classes_dict = train_function('../../data/Lego_dataset_1/training/')"
   ],
   "metadata": {
    "collapsed": false,
    "pycharm": {
     "name": "#%%\n"
    }
   }
  },
  {
   "cell_type": "code",
   "execution_count": 7,
   "metadata": {
    "pycharm": {
     "name": "#%%\n"
    }
   },
   "outputs": [
    {
     "name": "stderr",
     "output_type": "stream",
     "text": [
      "C:\\Users\\AshesFall\\AppData\\Local\\Temp\\ipykernel_38552\\2936266166.py:29: DeprecationWarning: BICUBIC is deprecated and will be removed in Pillow 10 (2023-07-01). Use Resampling.BICUBIC instead.\n",
      "  img = img.resize((new_width, new_height), resample=PIL.Image.BICUBIC)\n"
     ]
    },
    {
     "name": "stdout",
     "output_type": "stream",
     "text": [
      "\n",
      "X_test.shape = (54, 4096), y_test.shape = (54, 1)\n",
      "\n",
      "Confusion Matrix = \n",
      "[[17  0  1]\n",
      " [ 0 18  0]\n",
      " [ 1  0 17]]\n",
      "\n",
      "Accuracy Score = 0.9629629629629629\n",
      "Model Coefficient Shape = (3, 4096)\n"
     ]
    }
   ],
   "source": [
    "def test_function(path_to_data,\n",
    "                  model,\n",
    "                  class_name_chars=3,\n",
    "                  test_flag=False,\n",
    "                  classes_dict=None,\n",
    "                  standardization_flag=True,\n",
    "                  standardization_max_value=255,\n",
    "                  crop_flag=True,\n",
    "                  crop_height_percentage=50,\n",
    "                  crop_width_percentage=50,\n",
    "                  scaling_flag=True,\n",
    "                  scaling_height=50,\n",
    "                  scaling_width=50):\n",
    "    X_test, y_test, classes_dict = get_data(path_to_data)\n",
    "    # print(data_train.shape, classes_train.shape)\n",
    "\n",
    "    # train LogisticRegression model\n",
    "    # testing data using train data >>> Accuracy Score = 1\n",
    "    print(f'\\nX_test.shape = {X_test.shape}, y_test.shape = {y_test.shape}')\n",
    "    y_pred = model.predict(X_test)\n",
    "    print(f'\\nConfusion Matrix = \\n{confusion_matrix(y_test, y_pred)}')\n",
    "    print(f'\\nAccuracy Score = {accuracy_score(y_test, y_pred)}')\n",
    "    print(f'Model Coefficient Shape = {model.coef_.shape}')\n",
    "\n",
    "\n",
    "test_function('../../data/Lego_dataset_1/testing/', model, test_flag= True, classes_dict= classes_dict)"
   ]
  },
  {
   "cell_type": "code",
   "execution_count": null,
   "metadata": {
    "pycharm": {
     "name": "#%%\n"
    }
   },
   "outputs": [],
   "source": []
  }
 ],
 "metadata": {
  "kernelspec": {
   "display_name": "Python 3",
   "language": "python",
   "name": "python3"
  },
  "language_info": {
   "codemirror_mode": {
    "name": "ipython",
    "version": 3
   },
   "file_extension": ".py",
   "mimetype": "text/x-python",
   "name": "python",
   "nbconvert_exporter": "python",
   "pygments_lexer": "ipython3",
   "version": "3.8.8"
  }
 },
 "nbformat": 4,
 "nbformat_minor": 1
}